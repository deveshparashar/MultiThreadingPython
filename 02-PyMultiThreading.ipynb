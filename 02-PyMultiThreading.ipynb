{
 "cells": [
  {
   "cell_type": "markdown",
   "id": "fd730ce9-ec7f-4261-9f8e-7b1a85849041",
   "metadata": {},
   "source": [
    "## Multi-Threading in Python\n",
    "\n",
    "### Creating & Managing Threads\n",
    "\n",
    "####  1. Creating Thhreads\n",
    "####  2. Thread name and Identity\n",
    "####  3. Passing Parameters to the thread\n",
    "####  4. Creating Thread by Sub-Classing"
   ]
  },
  {
   "cell_type": "code",
   "execution_count": 1,
   "id": "7f7d8df7-2d87-4949-901c-8f6803e68344",
   "metadata": {},
   "outputs": [],
   "source": [
    "from threading import Thread"
   ]
  },
  {
   "cell_type": "code",
   "execution_count": 2,
   "id": "66230ab7-4bb9-4e47-a65b-50c0e382fe58",
   "metadata": {},
   "outputs": [],
   "source": [
    "import time"
   ]
  },
  {
   "cell_type": "markdown",
   "id": "b1296f05-9648-4be8-91e9-0ead66b1f083",
   "metadata": {},
   "source": [
    "#### Creating a Thread using the Built-in {Thread} Class"
   ]
  },
  {
   "cell_type": "raw",
   "id": "77a4f15e-e46a-453e-94e2-dc6d6f2c9fb5",
   "metadata": {},
   "source": [
    "To create thread, we need a function which will be executed by the Thread"
   ]
  },
  {
   "cell_type": "code",
   "execution_count": 3,
   "id": "1fafdc2a-0f4b-4cf5-ae90-b17d9c6079bd",
   "metadata": {},
   "outputs": [],
   "source": [
    "def thrdFunc():\n",
    "    print(\"Thread Function...!!!!\")\n",
    "    time.sleep(10) # Seconds\n",
    "    print(\"End of Thread Function...!!!\")"
   ]
  },
  {
   "cell_type": "markdown",
   "id": "7c8b32c6-e693-449c-9bbe-a078f15c9f79",
   "metadata": {},
   "source": [
    "#### Now creating the thread"
   ]
  },
  {
   "cell_type": "code",
   "execution_count": 9,
   "id": "fc23812e-0a60-402a-84aa-ef0e5b087acb",
   "metadata": {},
   "outputs": [],
   "source": [
    "thrd = Thread(target=thrdFunc)  # target is the entry point function used for creating a thread"
   ]
  },
  {
   "cell_type": "raw",
   "id": "c49463fc-eede-4ac0-b8bf-3862a9c72051",
   "metadata": {},
   "source": [
    "We have created a thread but we need to start the thread to start the Execution of Thread Function\n",
    "\n",
    "There is a function using which we can check whether the Thread is currently running or not\n"
   ]
  },
  {
   "cell_type": "code",
   "execution_count": 10,
   "id": "58374147-21d3-421c-8a94-d82831f04c83",
   "metadata": {},
   "outputs": [
    {
     "data": {
      "text/plain": [
       "False"
      ]
     },
     "execution_count": 10,
     "metadata": {},
     "output_type": "execute_result"
    }
   ],
   "source": [
    "## To see if a thread is actually running or not we can use 'is_alive()' function\n",
    "\n",
    "thrd.is_alive()"
   ]
  },
  {
   "cell_type": "code",
   "execution_count": 11,
   "id": "04182b14-cc85-4bb2-b107-e54ba0acdbc8",
   "metadata": {},
   "outputs": [
    {
     "name": "stdout",
     "output_type": "stream",
     "text": [
      "Thread Function...!!!!\n",
      "End of Thread Function...!!!\n"
     ]
    }
   ],
   "source": [
    "## To start the Thread \n",
    "\n",
    "thrd.start() ## we can NOT start a thread again and again i.e. 1  thread can be started only ONCE"
   ]
  },
  {
   "cell_type": "code",
   "execution_count": 12,
   "id": "28ed00c7-e219-442b-8ee6-cb7cc435b0bc",
   "metadata": {},
   "outputs": [
    {
     "data": {
      "text/plain": [
       "True"
      ]
     },
     "execution_count": 12,
     "metadata": {},
     "output_type": "execute_result"
    }
   ],
   "source": [
    "## To see if a thread is actually running or not we can use 'is_alive()' function\n",
    "\n",
    "thrd.is_alive()"
   ]
  },
  {
   "cell_type": "raw",
   "id": "c8d950f9-5aa1-49c4-a1d0-f3d755e3e101",
   "metadata": {},
   "source": [
    "Naming of the Thread"
   ]
  },
  {
   "cell_type": "code",
   "execution_count": 13,
   "id": "3b5c68ba-a3e5-4f31-99ea-cd7587bcf0af",
   "metadata": {},
   "outputs": [
    {
     "data": {
      "text/plain": [
       "'Thread-6 (thrdFunc)'"
      ]
     },
     "execution_count": 13,
     "metadata": {},
     "output_type": "execute_result"
    }
   ],
   "source": [
    "## to see name of the Thread \n",
    "\n",
    "thrd.name"
   ]
  },
  {
   "cell_type": "markdown",
   "id": "edf71194-f64d-4a49-b459-7c4d5a399055",
   "metadata": {},
   "source": [
    "### We can provide custom name to a thread using Thread Class Parameter"
   ]
  },
  {
   "cell_type": "code",
   "execution_count": 17,
   "id": "32b26aba-fe5b-4baa-85ef-0efe441bde2a",
   "metadata": {},
   "outputs": [],
   "source": [
    "## we are passing 'name' parameter to give name to a thread\n",
    "thrd = Thread(target=thrdFunc, name=\"CustomThread Name\")"
   ]
  },
  {
   "cell_type": "code",
   "execution_count": 18,
   "id": "3ab6a525-8636-4a3c-9a29-36c9386300cd",
   "metadata": {},
   "outputs": [
    {
     "data": {
      "text/plain": [
       "False"
      ]
     },
     "execution_count": 18,
     "metadata": {},
     "output_type": "execute_result"
    }
   ],
   "source": [
    "thrd.is_alive()"
   ]
  },
  {
   "cell_type": "code",
   "execution_count": 19,
   "id": "a56501bb-3520-4a5b-8f5b-ce7bd9dba458",
   "metadata": {},
   "outputs": [
    {
     "data": {
      "text/plain": [
       "'CustomThread Name'"
      ]
     },
     "execution_count": 19,
     "metadata": {},
     "output_type": "execute_result"
    }
   ],
   "source": [
    "thrd.name"
   ]
  },
  {
   "cell_type": "markdown",
   "id": "5e1baa95-17dc-4850-9903-e40db56605f9",
   "metadata": {},
   "source": [
    "#### We can use Join to wait for the thread to Complete"
   ]
  },
  {
   "cell_type": "code",
   "execution_count": 20,
   "id": "d25cfcb3-365e-40e1-8faa-c4b1514ef6b6",
   "metadata": {},
   "outputs": [
    {
     "name": "stdout",
     "output_type": "stream",
     "text": [
      "Thread Function...!!!!\n",
      "End of Thread Function...!!!\n"
     ]
    }
   ],
   "source": [
    "thrd.start()\n",
    "thrd.join() # in our main thread we write join function at the end of our main thread as we want to ensure that\n",
    "            # all other threads have completed before we close our main thread otherwise there is a chance of memory leak"
   ]
  },
  {
   "cell_type": "raw",
   "id": "3d788cd0-0787-49db-bc19-8c5a757bb3a3",
   "metadata": {},
   "source": [
    "The Thread Identity"
   ]
  },
  {
   "cell_type": "markdown",
   "id": "be20d42e-cbfa-43de-b7c5-aea4e8b3f469",
   "metadata": {},
   "source": [
    "#### Thread Identity : is the Identity given the OS to a thread i.e. the way OS identifies a Thread"
   ]
  },
  {
   "cell_type": "raw",
   "id": "ee2b2ece-8b11-44f0-82fc-aac5446f7f9c",
   "metadata": {},
   "source": [
    "By default unless and until a thread is started we won't get the identity"
   ]
  },
  {
   "cell_type": "code",
   "execution_count": 21,
   "id": "262fdac4-11e2-4643-bf2a-82e59a100180",
   "metadata": {},
   "outputs": [],
   "source": [
    "thrd = Thread(target=thrdFunc)"
   ]
  },
  {
   "cell_type": "code",
   "execution_count": 22,
   "id": "7f7b42eb-ce4d-4d7b-90b5-329484804062",
   "metadata": {},
   "outputs": [
    {
     "name": "stdout",
     "output_type": "stream",
     "text": [
      "None\n"
     ]
    }
   ],
   "source": [
    "# .ident -- to se the identity , we need to start the thread otherwise None will be returned\n",
    "\n",
    "print(thrd.ident)"
   ]
  },
  {
   "cell_type": "raw",
   "id": "e6f0b0c1-cb71-4405-b969-60edad9f5646",
   "metadata": {},
   "source": [
    "Identity will remain even when the thread execution has completed"
   ]
  },
  {
   "cell_type": "code",
   "execution_count": 23,
   "id": "61fd1e0c-2d49-47de-ae96-165084be99c7",
   "metadata": {},
   "outputs": [
    {
     "name": "stdout",
     "output_type": "stream",
     "text": [
      "Thread Function...!!!!\n",
      "140337586632256\n",
      "End of Thread Function...!!!\n"
     ]
    }
   ],
   "source": [
    "thrd.start()\n",
    "print(thrd.ident)"
   ]
  },
  {
   "cell_type": "code",
   "execution_count": 24,
   "id": "fbc08319-150e-4ff3-a56a-663b87f06253",
   "metadata": {},
   "outputs": [
    {
     "name": "stdout",
     "output_type": "stream",
     "text": [
      "140337586632256\n"
     ]
    }
   ],
   "source": [
    "print(thrd.ident)"
   ]
  },
  {
   "cell_type": "markdown",
   "id": "61a02522-a560-492e-9a46-eadb6afe5e9e",
   "metadata": {},
   "source": [
    "#### How to check if a thread is already Executed"
   ]
  },
  {
   "cell_type": "code",
   "execution_count": 25,
   "id": "7e3d7865-fe39-4fa7-bb4e-92f5f96d541f",
   "metadata": {},
   "outputs": [
    {
     "data": {
      "text/plain": [
       "True"
      ]
     },
     "execution_count": 25,
     "metadata": {},
     "output_type": "execute_result"
    }
   ],
   "source": [
    "# the identity of a thread is not assigned until unless the thread is started i.e. thread.identity \n",
    "\n",
    "thrd.ident != None and thrd.is_alive() == False # this means that thread has already been executed and finished"
   ]
  },
  {
   "cell_type": "markdown",
   "id": "53836fde-4ee3-44f6-820c-789dc49adef2",
   "metadata": {},
   "source": [
    "#### Passing Arguments in Thread Function"
   ]
  },
  {
   "cell_type": "code",
   "execution_count": 26,
   "id": "1d020788-5992-4b2b-94cb-478850cf678c",
   "metadata": {},
   "outputs": [],
   "source": [
    "def thrdFunc1(arg):\n",
    "    print(\"Thread Argument ==> \",arg)\n",
    "    time.sleep(10) # seconds\n",
    "    print(\"end of Thread Function...!!\")"
   ]
  },
  {
   "cell_type": "markdown",
   "id": "89fa72fe-8df1-4b79-9146-388c96095294",
   "metadata": {},
   "source": [
    "#### Create a Thread by Passing the Argument"
   ]
  },
  {
   "cell_type": "code",
   "execution_count": 27,
   "id": "e0fb3ca0-10a4-4b05-88a0-55cdf0fe00b9",
   "metadata": {},
   "outputs": [],
   "source": [
    "thrd = Thread(target=thrdFunc1, args=(200,)) # we need to pass '200,' since it takes argument as tuple"
   ]
  },
  {
   "cell_type": "code",
   "execution_count": 28,
   "id": "dc041ca8-b518-4886-9779-d1924a6b7071",
   "metadata": {},
   "outputs": [
    {
     "name": "stdout",
     "output_type": "stream",
     "text": [
      "Thread Argument ==>  200\n",
      "end of Thread Function...!!\n"
     ]
    }
   ],
   "source": [
    "thrd.start()"
   ]
  },
  {
   "cell_type": "markdown",
   "id": "30ecd6ef-4862-4b0f-8789-3f24833dc640",
   "metadata": {},
   "source": [
    "#### Passing Multiple Arguments to a thread"
   ]
  },
  {
   "cell_type": "code",
   "execution_count": 40,
   "id": "90316829-57e4-49b6-b971-028c60e0fd5c",
   "metadata": {},
   "outputs": [],
   "source": [
    "def thrdFunc2(arg1, arg2):\n",
    "    print(\"Thread Argument 1 ==> \",arg1,\"And Argument 1 ==> \",arg2)\n",
    "    time.sleep(10) # seconds\n",
    "    print(\"end of Thread Function...!!\")"
   ]
  },
  {
   "cell_type": "code",
   "execution_count": 41,
   "id": "f35f20d3-99e8-4cbc-9f6e-2c600e7f33bd",
   "metadata": {},
   "outputs": [],
   "source": [
    "thrd = Thread(target=thrdFunc2, args=(300,400))"
   ]
  },
  {
   "cell_type": "code",
   "execution_count": 42,
   "id": "c5b1ab0f-d09b-4ac6-8e33-e327dbf92592",
   "metadata": {},
   "outputs": [
    {
     "name": "stdout",
     "output_type": "stream",
     "text": [
      "Thread Argument 1 ==>  300 And Argument 1 ==>  400\n",
      "end of Thread Function...!!\n",
      "Thread...\n",
      "A Thread is Existing\n"
     ]
    }
   ],
   "source": [
    "thrd.start()"
   ]
  },
  {
   "cell_type": "markdown",
   "id": "926948a6-1380-47d1-8214-8a0a3534e007",
   "metadata": {},
   "source": [
    "### Creating Thread Using Subclassing"
   ]
  },
  {
   "cell_type": "code",
   "execution_count": 47,
   "id": "f2495cb4-83e7-480f-a791-434d255970fe",
   "metadata": {},
   "outputs": [],
   "source": [
    "class MyThread(Thread):\n",
    "    def __init__(self):\n",
    "        super().__init__()\n",
    "\n",
    "    def run(self):\n",
    "        print(\"Thread...\")\n",
    "        time.sleep(10)\n",
    "        print(\"A Thread is Existing\")\n"
   ]
  },
  {
   "cell_type": "code",
   "execution_count": 48,
   "id": "8d959d90-2197-490f-b7e0-f96d7b11db6f",
   "metadata": {},
   "outputs": [],
   "source": [
    "mt = MyThread()"
   ]
  },
  {
   "cell_type": "code",
   "execution_count": 49,
   "id": "65fda846-4183-4cc0-bb6e-eac043e13177",
   "metadata": {},
   "outputs": [
    {
     "name": "stdout",
     "output_type": "stream",
     "text": [
      "Thread...\n",
      "A Thread is Existing\n"
     ]
    }
   ],
   "source": [
    "mt.start() # run method of class MyThread will be called\n",
    "mt.join()"
   ]
  },
  {
   "cell_type": "markdown",
   "id": "88cfeed3-0b10-4abf-b56a-e35e8138956d",
   "metadata": {},
   "source": [
    "### Passing Parameter to the Thread in subclass"
   ]
  },
  {
   "cell_type": "code",
   "execution_count": 55,
   "id": "2b9077d8-9746-4f0c-96f5-9d301518cf40",
   "metadata": {},
   "outputs": [],
   "source": [
    "class MyThread(Thread):\n",
    "    def __init__(self,param1):\n",
    "        super().__init__()\n",
    "        self.param1 = param1\n",
    "\n",
    "    def run(self):\n",
    "        print(\"Thread...  Parameter => \", self.param1)\n",
    "        time.sleep(10)\n",
    "        print(\"A Thread is Existing\")"
   ]
  },
  {
   "cell_type": "code",
   "execution_count": 56,
   "id": "5d194ac6-5af9-44d8-8de4-595233b294ed",
   "metadata": {},
   "outputs": [],
   "source": [
    "mt = MyThread(\"Devesh\")"
   ]
  },
  {
   "cell_type": "code",
   "execution_count": 57,
   "id": "53264d37-03d7-4674-866f-cbcc3824e157",
   "metadata": {},
   "outputs": [
    {
     "name": "stdout",
     "output_type": "stream",
     "text": [
      "Thread...  Parameter =>  Devesh\n",
      "A Thread is Existing\n"
     ]
    }
   ],
   "source": [
    "mt.start()\n",
    "mt.join()"
   ]
  },
  {
   "cell_type": "code",
   "execution_count": null,
   "id": "95e32153-8401-490f-8629-cc40f68675ee",
   "metadata": {},
   "outputs": [],
   "source": []
  }
 ],
 "metadata": {
  "kernelspec": {
   "display_name": "Python 3 (ipykernel)",
   "language": "python",
   "name": "python3"
  },
  "language_info": {
   "codemirror_mode": {
    "name": "ipython",
    "version": 3
   },
   "file_extension": ".py",
   "mimetype": "text/x-python",
   "name": "python",
   "nbconvert_exporter": "python",
   "pygments_lexer": "ipython3",
   "version": "3.10.12"
  }
 },
 "nbformat": 4,
 "nbformat_minor": 5
}
