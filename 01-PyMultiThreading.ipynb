{
 "cells": [
  {
   "cell_type": "markdown",
   "id": "442bfa34-4d0d-4049-abcd-b024e2985f33",
   "metadata": {},
   "source": [
    "### Python Multi-Threading Concept\n"
   ]
  },
  {
   "cell_type": "code",
   "execution_count": null,
   "id": "d44276b1-23af-407a-830f-8d95a7830cfc",
   "metadata": {},
   "outputs": [],
   "source": []
  },
  {
   "cell_type": "code",
   "execution_count": null,
   "id": "805919d7-3a13-4d1f-9434-7b9b7d6508fb",
   "metadata": {},
   "outputs": [],
   "source": []
  },
  {
   "cell_type": "code",
   "execution_count": null,
   "id": "b27e54ee-6974-43fa-bbc2-149023e4eebe",
   "metadata": {},
   "outputs": [],
   "source": []
  },
  {
   "cell_type": "raw",
   "id": "b7f11f41-8d31-4a68-ae91-84c0259fa587",
   "metadata": {},
   "source": [
    "python threads are real threads -- every time a python thread is created a Kernel level Thread is created \n",
    "\n",
    "to use python thread we need to import 'thread' from 'threading' library  i.e."
   ]
  },
  {
   "cell_type": "code",
   "execution_count": 32,
   "id": "86d3b8ae-8622-4e97-87a4-309638485f35",
   "metadata": {},
   "outputs": [],
   "source": [
    "import threading"
   ]
  },
  {
   "cell_type": "code",
   "execution_count": 33,
   "id": "53ba6bd4-1dec-46a7-a539-ccf7678baee4",
   "metadata": {},
   "outputs": [],
   "source": [
    "from threading import Thread"
   ]
  },
  {
   "cell_type": "code",
   "execution_count": 34,
   "id": "c64bf143-a906-4064-aab6-60a6b7316682",
   "metadata": {},
   "outputs": [],
   "source": [
    "import time\n"
   ]
  },
  {
   "cell_type": "raw",
   "id": "7589e6ca-8d7f-49dc-9982-c47e9adfb40e",
   "metadata": {},
   "source": [
    "To create a thread, we need a function which will be executed by the thread i.e."
   ]
  },
  {
   "cell_type": "code",
   "execution_count": 10,
   "id": "2f2b934f-60ec-43d6-9104-82d7d2fa2810",
   "metadata": {},
   "outputs": [],
   "source": [
    "def threadFunc():\n",
    "    print(\"Starting of a Thread function\")\n",
    "    time.sleep(10) # seconds\n",
    "    print(\"Thread Function Completed!\")"
   ]
  },
  {
   "cell_type": "raw",
   "id": "9a374008-7730-4cdc-958b-e1e6ce2ec835",
   "metadata": {},
   "source": [
    "\n",
    "To check how many threads are already present and already running as part of this Jupyter Notebook\n",
    "\n",
    "we'll use builtin threading class for the same : threading.active_count()\n"
   ]
  },
  {
   "cell_type": "code",
   "execution_count": 11,
   "id": "a993fd75-bc26-4bb8-9c9f-d5a6976430e7",
   "metadata": {},
   "outputs": [
    {
     "data": {
      "text/plain": [
       "8"
      ]
     },
     "execution_count": 11,
     "metadata": {},
     "output_type": "execute_result"
    }
   ],
   "source": [
    "threading.active_count() # at this point of time this many threads are activly running"
   ]
  },
  {
   "cell_type": "code",
   "execution_count": 12,
   "id": "94e7d098-f437-4ad6-be6b-7453156f9e86",
   "metadata": {},
   "outputs": [
    {
     "data": {
      "text/plain": [
       "8"
      ]
     },
     "execution_count": 12,
     "metadata": {},
     "output_type": "execute_result"
    }
   ],
   "source": [
    "threading.active_count() "
   ]
  },
  {
   "cell_type": "raw",
   "id": "24c93d61-2a2f-451e-ab8c-fffa30dd585a",
   "metadata": {},
   "source": [
    "Now creating a thread "
   ]
  },
  {
   "cell_type": "code",
   "execution_count": 16,
   "id": "410b23e8-903e-4443-b649-2de15a956323",
   "metadata": {},
   "outputs": [],
   "source": [
    "thrd = Thread(target=threadFunc)"
   ]
  },
  {
   "cell_type": "markdown",
   "id": "36c78a10-5291-44be-853d-8d0ee7768362",
   "metadata": {},
   "source": [
    "#### We have created a thread but we need to start the execution of Tread Function Explicitly"
   ]
  },
  {
   "cell_type": "code",
   "execution_count": 17,
   "id": "bc9bafe3-9656-476e-bcf2-a91e57c8db9e",
   "metadata": {},
   "outputs": [
    {
     "name": "stdout",
     "output_type": "stream",
     "text": [
      "Starting of a Thread function\n",
      "Thread Function Completed!\n"
     ]
    }
   ],
   "source": [
    "thrd.start()"
   ]
  },
  {
   "cell_type": "markdown",
   "id": "32398473-d8d9-4a31-b5ed-58987c9ef7e7",
   "metadata": {},
   "source": [
    "##### Since a separte thread is executed, we can see the number of active threads using thread active count function"
   ]
  },
  {
   "cell_type": "code",
   "execution_count": 18,
   "id": "9157c22e-0c8e-453c-9bdd-695ae0359a4f",
   "metadata": {},
   "outputs": [
    {
     "data": {
      "text/plain": [
       "9"
      ]
     },
     "execution_count": 18,
     "metadata": {},
     "output_type": "execute_result"
    }
   ],
   "source": [
    "threading.active_count()"
   ]
  },
  {
   "cell_type": "markdown",
   "id": "a44d2ca8-217d-4882-be69-27c610b166b2",
   "metadata": {},
   "source": [
    "###### we can start a thread only once, we have to create a thread again to start it\n",
    "\n",
    "###### and wait for the completion of the Thread using Join"
   ]
  },
  {
   "cell_type": "code",
   "execution_count": 25,
   "id": "10ce82b0-7893-48af-a38d-8e03d93163e4",
   "metadata": {},
   "outputs": [],
   "source": [
    "thrd= Thread(target=threadFunc)"
   ]
  },
  {
   "cell_type": "code",
   "execution_count": 26,
   "id": "7a90a642-feb6-4d96-999b-5d6e7cc8db96",
   "metadata": {},
   "outputs": [
    {
     "name": "stdout",
     "output_type": "stream",
     "text": [
      "Starting of a Thread function\n",
      "Thread Function Completed!\n"
     ]
    }
   ],
   "source": [
    "thrd.start()\n",
    "thrd.join() # whenever join() method is called for any thread object, it blocks the calling of thread till the time\n",
    "            # thred whose join() method gets terminated"
   ]
  },
  {
   "cell_type": "code",
   "execution_count": 22,
   "id": "d19aefb5-1dea-4f9a-b759-7c3d6db400c4",
   "metadata": {},
   "outputs": [],
   "source": []
  },
  {
   "cell_type": "code",
   "execution_count": 23,
   "id": "65968aeb-9df6-4bf3-a757-3f6180231d23",
   "metadata": {},
   "outputs": [
    {
     "data": {
      "text/plain": [
       "8"
      ]
     },
     "execution_count": 23,
     "metadata": {},
     "output_type": "execute_result"
    }
   ],
   "source": [
    "threading.active_count()"
   ]
  },
  {
   "cell_type": "markdown",
   "id": "62edf0b3-fc9a-4896-9d90-b5de8de4387d",
   "metadata": {},
   "source": [
    "## GIL - Global Interpreter Lock"
   ]
  },
  {
   "cell_type": "raw",
   "id": "ffe1ca8a-360b-4df1-a211-030a2872a7bc",
   "metadata": {},
   "source": [
    "In CPython(Official Python version). Due to the GIL, only one thread can execute the python code at once ( even though certain \n",
    "performance oriented libraries might overcome this limitation)\n",
    "\n",
    "this means GIL is not saying we can create only 1 thread at a time. \n",
    "\n",
    "it is saying we can create multiple threads but we can EXECUTE only One thread at a time."
   ]
  },
  {
   "cell_type": "markdown",
   "id": "798d5bdf-b87e-4740-9ff0-522beb786ec0",
   "metadata": {},
   "source": [
    "##### Let's create multiple threadss which is working all the tie i.e. CPU intensive JOBS"
   ]
  },
  {
   "cell_type": "code",
   "execution_count": 47,
   "id": "3ecf1c8f-9b03-4cb1-95f7-8bdba7707231",
   "metadata": {},
   "outputs": [],
   "source": [
    "kill_thread = False"
   ]
  },
  {
   "cell_type": "code",
   "execution_count": 48,
   "id": "a51b9dbf-722d-4ca2-8a89-d7f976831ae8",
   "metadata": {},
   "outputs": [],
   "source": [
    "def working_thread():\n",
    "    while True:\n",
    "        if kill_thread == True: # if kill_thread is True then exit i.e. return else keep on looping in while loop \n",
    "            return"
   ]
  },
  {
   "cell_type": "raw",
   "id": "8855e0de-d699-4cbe-bd95-2af9642ca187",
   "metadata": {},
   "source": [
    "Create a Thread which will be running all the time "
   ]
  },
  {
   "cell_type": "code",
   "execution_count": 49,
   "id": "a4dc4565-eb6e-48e4-89a0-052588563695",
   "metadata": {},
   "outputs": [],
   "source": [
    "thrd_run = Thread(target=working_thread)"
   ]
  },
  {
   "cell_type": "code",
   "execution_count": 50,
   "id": "c51b1078-a39e-4522-919a-dfd26354e215",
   "metadata": {},
   "outputs": [
    {
     "data": {
      "text/plain": [
       "8"
      ]
     },
     "execution_count": 50,
     "metadata": {},
     "output_type": "execute_result"
    }
   ],
   "source": [
    "threading.active_count()"
   ]
  },
  {
   "cell_type": "code",
   "execution_count": 51,
   "id": "6bbac9c0-0075-420e-b081-7a7b27b43059",
   "metadata": {},
   "outputs": [],
   "source": [
    "thrd_run.start()"
   ]
  },
  {
   "cell_type": "code",
   "execution_count": 52,
   "id": "6f9de747-65d2-4421-b2b0-ff5eacf75abf",
   "metadata": {},
   "outputs": [
    {
     "data": {
      "text/plain": [
       "9"
      ]
     },
     "execution_count": 52,
     "metadata": {},
     "output_type": "execute_result"
    }
   ],
   "source": [
    "threading.active_count() #  tread count will increase"
   ]
  },
  {
   "cell_type": "code",
   "execution_count": 54,
   "id": "28f0f2fc-ccef-4a29-97f8-338f5cd946b2",
   "metadata": {},
   "outputs": [],
   "source": [
    "kill_thread = True # while loop will end and thread count will decrease"
   ]
  },
  {
   "cell_type": "code",
   "execution_count": 55,
   "id": "9bcd20d2-82ff-4b35-80a1-ba8344022aba",
   "metadata": {},
   "outputs": [
    {
     "data": {
      "text/plain": [
       "8"
      ]
     },
     "execution_count": 55,
     "metadata": {},
     "output_type": "execute_result"
    }
   ],
   "source": [
    "threading.active_count()\n"
   ]
  },
  {
   "cell_type": "raw",
   "id": "ed19fd03-b6be-435f-8f9f-a8a1effde7c2",
   "metadata": {},
   "source": [
    "Lets create 2 Threads instead of 1"
   ]
  },
  {
   "cell_type": "code",
   "execution_count": 56,
   "id": "20830718-11eb-4eee-be56-38b1af3cef9b",
   "metadata": {},
   "outputs": [],
   "source": [
    "kill_thread = False"
   ]
  },
  {
   "cell_type": "code",
   "execution_count": 57,
   "id": "c356f8bb-a83d-4965-bce2-62555ad4dd3e",
   "metadata": {},
   "outputs": [],
   "source": [
    "thrd_1 = Thread(target=working_thread)"
   ]
  },
  {
   "cell_type": "code",
   "execution_count": 58,
   "id": "7cf9f20c-b4ed-44d7-8495-e86643e07344",
   "metadata": {},
   "outputs": [],
   "source": [
    "thrd_2 = Thread(target=working_thread)"
   ]
  },
  {
   "cell_type": "markdown",
   "id": "03a19c68-f326-4c12-bebe-ce968937bcaa",
   "metadata": {},
   "source": [
    "##### Starting both the threads"
   ]
  },
  {
   "cell_type": "code",
   "execution_count": 59,
   "id": "8c22054f-f595-4916-90bb-93ffe98e31f3",
   "metadata": {},
   "outputs": [
    {
     "data": {
      "text/plain": [
       "8"
      ]
     },
     "execution_count": 59,
     "metadata": {},
     "output_type": "execute_result"
    }
   ],
   "source": [
    "threading.active_count()"
   ]
  },
  {
   "cell_type": "code",
   "execution_count": 60,
   "id": "aa6aff63-02cc-4821-be66-05fc9b8bbaaf",
   "metadata": {},
   "outputs": [],
   "source": [
    "thrd_1.start()"
   ]
  },
  {
   "cell_type": "code",
   "execution_count": 61,
   "id": "9bd0cb4b-2481-4dbd-be14-7b4a870950b2",
   "metadata": {},
   "outputs": [],
   "source": [
    "thrd_2.start()"
   ]
  },
  {
   "cell_type": "code",
   "execution_count": 62,
   "id": "97747a74-8dcc-4f22-bc9a-76766be0a369",
   "metadata": {},
   "outputs": [
    {
     "data": {
      "text/plain": [
       "10"
      ]
     },
     "execution_count": 62,
     "metadata": {},
     "output_type": "execute_result"
    }
   ],
   "source": [
    "threading.active_count()"
   ]
  },
  {
   "cell_type": "raw",
   "id": "d9071eca-59fe-4216-944d-6fea0efd0ec0",
   "metadata": {},
   "source": [
    "Here we can see that combined CPU  usage of these Threads are 100 % "
   ]
  },
  {
   "cell_type": "code",
   "execution_count": null,
   "id": "9779ca68-2abd-42f7-bf0a-d4e1c10f1def",
   "metadata": {},
   "outputs": [],
   "source": []
  },
  {
   "cell_type": "markdown",
   "id": "56b51f3f-f948-493a-9994-022ced115f68",
   "metadata": {},
   "source": [
    "##### Lets Stop the Threads"
   ]
  },
  {
   "cell_type": "code",
   "execution_count": 63,
   "id": "43ddb8a7-da73-47c2-97a8-d54bb544f9c8",
   "metadata": {},
   "outputs": [],
   "source": [
    "kill_thread = True"
   ]
  },
  {
   "cell_type": "markdown",
   "id": "75c2aebf-eaf5-4463-951e-ed9e39034c08",
   "metadata": {},
   "source": [
    "# In Multi-Theading in Python we create Multiple Threads -- Python will tread Our CPU as a SINGLE CORE CPU even when we have multiple core CPU"
   ]
  },
  {
   "cell_type": "raw",
   "id": "fc9a94d2-b9de-4cc7-8b2b-bf58e5caa7e2",
   "metadata": {},
   "source": [
    "we can see that CPU utilization NEVER goes beyond 100 when combining cpu utilization of both the threads i.e. in python when \n",
    "\n",
    "    multiple threads were running half of the time thrd_1 was running and half of the time thrd_2 was running but overall combine \n",
    "\n",
    "    CPU utilization of threads never cross 100 %\n",
    "\n",
    "    So, in python if we create 10 threads then CPU useage will not go beyond 100 % unlike C++ where CPU utilization will go 1000 %\n",
    "\n",
    "\n",
    "So, GIL will let us run multiple threads but any point of time only 1 thread will be working.\n",
    "\n",
    "\n",
    "IN CASE OF PYTHON IF WE USE MUTLI-THREADING : CPU INTENSIVE JOBS WILL NOT HAVE ANY IMPACT \n",
    "\n",
    "but we can use Multi-Threading in other task like - File reading , User-Input, Network reading, Micro-serivices, Connecting to server and getting some data transferred, etc. in theses cases CPU useage is NOT 100 % by each of the thread as we have to wait for N/W input, disk input and these things are slower then CPU and thus CPU will be relativly free. So in these cases we create multiple threads it will be Helpful for us Since these task are not CPU intensive.\n"
   ]
  },
  {
   "cell_type": "markdown",
   "id": "49c3704d-9408-4bc4-8c1b-f4dc19266701",
   "metadata": {},
   "source": [
    "#### if we create 2 threads in a programming language where there is no concept of GIL ?\n",
    "\n",
    "##### here in NON-GIL language when we create multiple threads then their CPU usage in combinition goes beyond 100% i.e. multiple cores of\n",
    "\n",
    "##### CPU are working symultaniously \n",
    "\n",
    "##### i.e. thread_1 can have CPU% = 98%\n",
    "\n",
    "##### i.e. thread_2 can have CPU% = 99%\n"
   ]
  },
  {
   "cell_type": "markdown",
   "id": "f151e83b-aaef-4c36-86d7-883e9c019465",
   "metadata": {},
   "source": [
    "## we want to use Multiple-COREs of CPU using Python we need to use MULTI-PROCESSING\n"
   ]
  },
  {
   "cell_type": "raw",
   "id": "f9218b31-dc71-4cdd-99ed-f1231b535e63",
   "metadata": {},
   "source": [
    "Multi-Processing is helpful if we are creating CPU intensive jobs like - Calculations, hash-calculation"
   ]
  },
  {
   "cell_type": "code",
   "execution_count": 1,
   "id": "db8aa678-8e38-4055-bea5-c240d1b84337",
   "metadata": {},
   "outputs": [],
   "source": [
    "import multiprocessing as mp"
   ]
  },
  {
   "cell_type": "code",
   "execution_count": 2,
   "id": "2027f416-f0ca-4a81-bee5-c6411ac26794",
   "metadata": {},
   "outputs": [],
   "source": [
    "from multiprocessing import Process"
   ]
  },
  {
   "cell_type": "raw",
   "id": "4fe0c83a-6f8a-4c1f-8cb5-fdebe478675b",
   "metadata": {},
   "source": [
    "the process API is similar to that of THREAD\n",
    "\n",
    "NOTE : Multi-Processing is a separate topic than Mutli-Threading\n"
   ]
  },
  {
   "cell_type": "code",
   "execution_count": 3,
   "id": "d4356f7d-f3bb-45e8-a45b-fe366f6b046d",
   "metadata": {},
   "outputs": [],
   "source": [
    "def working_process():\n",
    "    while True:\n",
    "        pass"
   ]
  },
  {
   "cell_type": "raw",
   "id": "093b2df6-2a43-4569-87cb-3c292ad782cb",
   "metadata": {},
   "source": [
    "example of multi-processing in a very bad coding way in real life we don't write code in such a way"
   ]
  },
  {
   "cell_type": "code",
   "execution_count": 4,
   "id": "a25c2029-e033-4042-ba6f-28cb3f51b0a3",
   "metadata": {},
   "outputs": [],
   "source": [
    "proc_1 = Process( target=working_process)"
   ]
  },
  {
   "cell_type": "code",
   "execution_count": 5,
   "id": "34da1399-be97-4f2f-98e4-a3f18b424ea3",
   "metadata": {},
   "outputs": [],
   "source": [
    "proc_2 = Process( target=working_process)"
   ]
  },
  {
   "cell_type": "markdown",
   "id": "1856ef70-4c75-494c-bea2-478a3f9bcde2",
   "metadata": {},
   "source": [
    "#### Starting the first Process"
   ]
  },
  {
   "cell_type": "code",
   "execution_count": 6,
   "id": "564efffa-43c7-401c-9d89-f50cf10a1c65",
   "metadata": {},
   "outputs": [],
   "source": [
    "proc_1.start()"
   ]
  },
  {
   "cell_type": "code",
   "execution_count": 7,
   "id": "f298aaea-6554-4624-b46c-40c9442fc899",
   "metadata": {},
   "outputs": [],
   "source": [
    "proc_2.start()"
   ]
  },
  {
   "cell_type": "markdown",
   "id": "52f29ef2-54b0-43a0-b070-061bc816c3d7",
   "metadata": {},
   "source": [
    "## Terminating Processes"
   ]
  },
  {
   "cell_type": "code",
   "execution_count": 12,
   "id": "fef7475c-0bd3-4ac6-ab08-1a15328e851e",
   "metadata": {},
   "outputs": [],
   "source": [
    "proc_1.terminate()"
   ]
  },
  {
   "cell_type": "code",
   "execution_count": 13,
   "id": "2cc9d1c0-1e0b-45b0-b4bb-5bae2b4a4169",
   "metadata": {},
   "outputs": [],
   "source": [
    "proc_2.terminate()"
   ]
  },
  {
   "cell_type": "markdown",
   "id": "e3ea790e-e2df-4c2c-ab82-8267c1e90387",
   "metadata": {},
   "source": [
    "### Closing Processes "
   ]
  },
  {
   "cell_type": "code",
   "execution_count": 14,
   "id": "0ac29511-7cce-4f67-9f72-da59f90722c5",
   "metadata": {},
   "outputs": [],
   "source": [
    "proc_1.close()"
   ]
  },
  {
   "cell_type": "code",
   "execution_count": 11,
   "id": "504644d4-cd5e-4bf9-88e1-bafe11602fbf",
   "metadata": {},
   "outputs": [],
   "source": [
    "proc_2.close()"
   ]
  },
  {
   "cell_type": "code",
   "execution_count": null,
   "id": "7cde146b-a91d-4e7c-9dd3-6acde3b2f2bd",
   "metadata": {},
   "outputs": [],
   "source": []
  },
  {
   "cell_type": "markdown",
   "id": "d07b923f-3286-4ee4-9399-1df2cf85ef0f",
   "metadata": {},
   "source": [
    "### OOPS way of creating a thread in Python"
   ]
  },
  {
   "cell_type": "code",
   "execution_count": 35,
   "id": "821974d1-8730-40cb-91fe-ca0c64989849",
   "metadata": {},
   "outputs": [],
   "source": [
    "class MyThread(Thread):\n",
    "    def __init__(self):\n",
    "        super().__init__()\n",
    "    def run(self):\n",
    "        print(\"A thread is Running\")\n",
    "        time.sleep(5)\n",
    "        print(\"A thread is Exiting\")"
   ]
  },
  {
   "cell_type": "code",
   "execution_count": 36,
   "id": "975e10e0-353f-4bda-89b9-c3b94bac795e",
   "metadata": {},
   "outputs": [
    {
     "data": {
      "text/plain": [
       "8"
      ]
     },
     "execution_count": 36,
     "metadata": {},
     "output_type": "execute_result"
    }
   ],
   "source": [
    "threading.active_count()"
   ]
  },
  {
   "cell_type": "markdown",
   "id": "3c0b175d-a2fa-4db4-a22f-b9879927d767",
   "metadata": {},
   "source": [
    "#### Let's create a OOPs Thread"
   ]
  },
  {
   "cell_type": "code",
   "execution_count": 37,
   "id": "4de4f41a-1f2b-44ca-86a4-6b87904df35d",
   "metadata": {},
   "outputs": [],
   "source": [
    "mt = MyThread()"
   ]
  },
  {
   "cell_type": "code",
   "execution_count": 41,
   "id": "d9e335a2-7e6b-4f26-8660-797138af2225",
   "metadata": {},
   "outputs": [
    {
     "name": "stdout",
     "output_type": "stream",
     "text": [
      "A thread is Running\n"
     ]
    }
   ],
   "source": [
    "mt.start() # Run method will be called"
   ]
  },
  {
   "cell_type": "code",
   "execution_count": 42,
   "id": "55e2329b-bf92-43af-b3d9-58512435215d",
   "metadata": {},
   "outputs": [
    {
     "data": {
      "text/plain": [
       "9"
      ]
     },
     "execution_count": 42,
     "metadata": {},
     "output_type": "execute_result"
    },
    {
     "name": "stdout",
     "output_type": "stream",
     "text": [
      "A thread is Exiting\n"
     ]
    }
   ],
   "source": [
    "threading.active_count()"
   ]
  },
  {
   "cell_type": "code",
   "execution_count": null,
   "id": "139e338c-df0e-4167-81ed-eeba7add95dd",
   "metadata": {},
   "outputs": [],
   "source": []
  }
 ],
 "metadata": {
  "kernelspec": {
   "display_name": "Python 3 (ipykernel)",
   "language": "python",
   "name": "python3"
  },
  "language_info": {
   "codemirror_mode": {
    "name": "ipython",
    "version": 3
   },
   "file_extension": ".py",
   "mimetype": "text/x-python",
   "name": "python",
   "nbconvert_exporter": "python",
   "pygments_lexer": "ipython3",
   "version": "3.10.12"
  }
 },
 "nbformat": 4,
 "nbformat_minor": 5
}
