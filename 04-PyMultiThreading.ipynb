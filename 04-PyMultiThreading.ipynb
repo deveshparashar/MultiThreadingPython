{
 "cells": [
  {
   "cell_type": "markdown",
   "id": "fe4d91f5-1203-4dac-b2df-5113667a0995",
   "metadata": {},
   "source": [
    "## Multi-Processing in Pyhton\n",
    "\n",
    "### To Make use of the multiple cores for CPU intensive Jobs"
   ]
  },
  {
   "cell_type": "raw",
   "id": "ceb08d1b-1d7f-4def-bd64-e30c718875c4",
   "metadata": {},
   "source": [
    "Pros\n",
    "\n",
    "    - used where CPU Intensive Task are required where multiple Core of CPU is required, as in Multi-Threading Single Core of CPU is used.\n",
    "    - Each Process can run Independent of GIL\n",
    "    - There is no Shared data b/w thread\n",
    "\n",
    "\n",
    "Cons\n",
    "    - Processes are Heavier than threads and are relativly slower then Threads.\n",
    "    - Processed take more resources \n",
    "    - Inter-Process Communication is Prone to many errors\n",
    "\n"
   ]
  },
  {
   "cell_type": "markdown",
   "id": "a29c453c-f1b1-4a72-ad31-69c952902784",
   "metadata": {},
   "source": [
    "### Recap - Multi-Threading in Python"
   ]
  },
  {
   "cell_type": "code",
   "execution_count": 1,
   "id": "71cfd7ec-fa2f-4dab-8334-9dc6d428c3d8",
   "metadata": {},
   "outputs": [],
   "source": [
    "import threading\n",
    "from threading import Thread\n",
    "import time"
   ]
  },
  {
   "cell_type": "markdown",
   "id": "6b78ed42-5e37-472c-82d4-fa8d92d00770",
   "metadata": {},
   "source": [
    "#### We need to create a thread function"
   ]
  },
  {
   "cell_type": "code",
   "execution_count": 2,
   "id": "b320b457-5014-4130-bbee-515170596322",
   "metadata": {},
   "outputs": [],
   "source": [
    "# creating a Thread entry point function\n",
    "\n",
    "def thrdFn():\n",
    "    print(\"Thread Function.. START..\")\n",
    "    time.sleep(1)\n",
    "    print(\"Thread Function.. END..\")"
   ]
  },
  {
   "cell_type": "raw",
   "id": "d8a1eb67-b45f-4f03-8ae5-ff6091afff83",
   "metadata": {},
   "source": [
    "Now Create thread using Build in THREAD class and run it"
   ]
  },
  {
   "cell_type": "code",
   "execution_count": 3,
   "id": "8ce97366-70a8-4e82-bb9a-5b8c192a6b64",
   "metadata": {},
   "outputs": [],
   "source": [
    "thrd = Thread(target=thrdFn) # we are passing our entry point function in the Thread"
   ]
  },
  {
   "cell_type": "code",
   "execution_count": null,
   "id": "82e046a4-3e74-4878-a3e4-6a8bf2ecaa7b",
   "metadata": {},
   "outputs": [],
   "source": []
  },
  {
   "cell_type": "markdown",
   "id": "7ac115fb-9022-492a-893f-3a94a7f3b4e1",
   "metadata": {},
   "source": [
    "##### Start and Wait for the THREAD to Complete"
   ]
  },
  {
   "cell_type": "code",
   "execution_count": 4,
   "id": "e7eacf3e-a195-43cf-bf3d-d3a397789c74",
   "metadata": {},
   "outputs": [
    {
     "name": "stdout",
     "output_type": "stream",
     "text": [
      "Thread Function.. START..\n",
      "Thread Function.. END..\n"
     ]
    }
   ],
   "source": [
    "thrd.start()\n",
    "\n",
    "# Wait for the Thread to complete\n",
    "\n",
    "thrd.join()"
   ]
  },
  {
   "cell_type": "markdown",
   "id": "292ebe87-181b-4d9b-adcd-abd0ab3060f8",
   "metadata": {},
   "source": [
    "# Multi Processing\n",
    "\n",
    "### Instead of Multiple Threads, we create Multiple Processes\n",
    "### Each Process can run Independent of GIL(Global Interpreter Lock)"
   ]
  },
  {
   "cell_type": "code",
   "execution_count": 6,
   "id": "3bffa1cb-390e-4352-b143-1b0729c68d22",
   "metadata": {},
   "outputs": [],
   "source": [
    "import multiprocessing as mp\n",
    "from multiprocessing import Process"
   ]
  },
  {
   "cell_type": "markdown",
   "id": "619fdcfe-5b64-483f-b6f7-8854e9f346b6",
   "metadata": {},
   "source": [
    "#### Just Like Thread Function, we need an entrypoint Process Function i.e. each new process we create \n",
    "####                                                                        we need to have an entry point function"
   ]
  },
  {
   "cell_type": "code",
   "execution_count": 7,
   "id": "63c74b95-d870-4982-ad25-241ebd06ae61",
   "metadata": {},
   "outputs": [],
   "source": [
    "\n",
    "\n",
    "def process_fn():\n",
    "    print(\"This is a new Process..\")\n",
    "    print(\"The Process name is \", mp.current_process())"
   ]
  },
  {
   "cell_type": "raw",
   "id": "ee9f3cc8-4360-4124-98e4-3319cc68679b",
   "metadata": {},
   "source": [
    "Creating the Process and run them"
   ]
  },
  {
   "cell_type": "code",
   "execution_count": 12,
   "id": "150a9b28-6f39-4e7c-ae30-82aec52614c6",
   "metadata": {},
   "outputs": [],
   "source": [
    "proc = Process(target=process_fn, name=\"Sample Process\")"
   ]
  },
  {
   "cell_type": "raw",
   "id": "0c537be8-8364-40d4-860a-7eb7e1199134",
   "metadata": {},
   "source": [
    "just like threads we can start and wait for the process to complete"
   ]
  },
  {
   "cell_type": "code",
   "execution_count": 13,
   "id": "61983185-73ba-48cb-a8d2-0306b52ce1b3",
   "metadata": {},
   "outputs": [
    {
     "name": "stdout",
     "output_type": "stream",
     "text": [
      "This is a new Process..\n",
      "The Process name is  <Process name='Sample Process' parent=315721 started>\n"
     ]
    }
   ],
   "source": [
    "proc.start()\n",
    "\n",
    "# wait for it to complete\n",
    "\n",
    "proc.join()"
   ]
  },
  {
   "cell_type": "code",
   "execution_count": null,
   "id": "c3325bb7-df3f-4442-af99-1a4145a2e1c1",
   "metadata": {},
   "outputs": [],
   "source": []
  }
 ],
 "metadata": {
  "kernelspec": {
   "display_name": "Python 3 (ipykernel)",
   "language": "python",
   "name": "python3"
  },
  "language_info": {
   "codemirror_mode": {
    "name": "ipython",
    "version": 3
   },
   "file_extension": ".py",
   "mimetype": "text/x-python",
   "name": "python",
   "nbconvert_exporter": "python",
   "pygments_lexer": "ipython3",
   "version": "3.10.12"
  }
 },
 "nbformat": 4,
 "nbformat_minor": 5
}
